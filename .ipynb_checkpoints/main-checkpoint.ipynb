{
 "cells": [
  {
   "cell_type": "code",
   "execution_count": 33,
   "metadata": {
    "collapsed": false
   },
   "outputs": [],
   "source": [
    "# Imports\n",
    "import sys\n",
    "sys.path.append('./FDFD')\n",
    "import numpy as np\n",
    "import matplotlib.pylab as plt\n",
    "from solveFDFD import solveFDFD\n",
    "from NN import NN\n",
    "from IPython.display import clear_output\n",
    "%matplotlib inline"
   ]
  },
  {
   "cell_type": "code",
   "execution_count": 34,
   "metadata": {
    "collapsed": true
   },
   "outputs": [],
   "source": [
    "# Define Parameters\n",
    "pol = 'TM'\n",
    "timing = True\n",
    "L0 = 1e-6\n",
    "wvlen = 0.5\n",
    "xrange = [-5, 5]\n",
    "yrange = [-5, 5]\n",
    "Nx = 100\n",
    "Ny = 100\n",
    "L_box = 50\n",
    "H_box = 50\n",
    "eps = 3\n",
    "npml = 10"
   ]
  },
  {
   "cell_type": "code",
   "execution_count": 35,
   "metadata": {
    "collapsed": true
   },
   "outputs": [],
   "source": [
    "layer_sizes = [2,4,5,1]\n",
    "activations = ['tanh','tanh','sigmoid']"
   ]
  },
  {
   "cell_type": "code",
   "execution_count": 36,
   "metadata": {
    "collapsed": false
   },
   "outputs": [],
   "source": [
    "# Set Up Simulation Variables\n",
    "nx = int(Nx//2)\n",
    "ny = int(Ny//2)\n",
    "src_pos_og = int((Nx/2.0-npml)//2) + npml\n",
    "src_pos_aj = Nx - int((Nx/2.0-npml)//2) - npml\n",
    "eps_r = np.ones((Nx,Ny))\n",
    "eps_r[nx-int(L_box//2):nx+int(L_box//2), ny-int(H_box//2):ny+int(H_box//2)] = eps\n",
    "SRC_og = np.zeros((Nx,Ny))\n",
    "SRC_aj = np.zeros((Nx,Ny))\n",
    "SRC_og[src_pos_og,ny] = 1\n",
    "SRC_aj[src_pos_aj,ny] = 1\n",
    "Npml = [npml,npml,npml,npml]\n",
    "delta_device = 1.*(eps_r>1)\n",
    "k0 = 2*np.pi/wvlen\n",
    "x_points = np.linspace(xrange[0],xrange[1],Nx)\n",
    "y_points = np.linspace(yrange[0],yrange[1],Ny)\n",
    "training_examples = np.zeros((2,Nx*Ny))\n",
    "iteration = 0\n",
    "for i in range(Nx):\n",
    "    for j in range(Ny):\n",
    "        training_examples[0,iteration] = x_points[i]\n",
    "        training_examples[1,iteration] = y_points[j]\n",
    "        iteration += 1        "
   ]
  },
  {
   "cell_type": "code",
   "execution_count": null,
   "metadata": {
    "collapsed": false
   },
   "outputs": [],
   "source": []
  },
  {
   "cell_type": "code",
   "execution_count": null,
   "metadata": {
    "collapsed": false
   },
   "outputs": [
    {
     "name": "stdout",
     "output_type": "stream",
     "text": [
      "[3.7993319058222474, 3.7551650424255922, 3.7099792766825344, 3.6638412846143544, 3.6168154271645596, 3.5689631745489452, 3.5203426350375553, 3.471008196360418, 3.4210102832406659, 3.3703952300410362, 3.3192052633917157, 3.2674785862347568]\n"
     ]
    },
    {
     "data": {
      "image/png": "[encoded data removed]",
      "text/plain": [
       "<matplotlib.figure.Figure at 0x10c58ec50>"
      ]
     },
     "metadata": {},
     "output_type": "display_data"
    }
   ],
   "source": [
    "neuralNet = NN(layer_sizes,activations)\n",
    "_ = neuralNet.derivative_check()\n",
    "Js = []\n",
    "timing = False\n",
    "learning_rate = .000010\n",
    "N_iterations = 40\n",
    "for i in range(N_iterations):\n",
    "    A = neuralNet.forward_prop(training_examples)\n",
    "    dAdZ = A*(1-A)\n",
    "    eps_r_vec = (eps-1.)*A+1.\n",
    "    eps_r = delta_device*np.reshape(eps_r_vec,(Nx,Ny)) + (1-delta_device)\n",
    "    # Do original simulation and adjoint simulation\n",
    "    (_, _, Ez_og, Hx_og, Hy_og, _, _) = solveFDFD(pol, L0, wvlen, xrange, yrange, eps_r, SRC_og, Npml, timing=timing)\n",
    "    meas = np.sum(Ez_og.T*SRC_aj)\n",
    "    J = abs(meas)**2\n",
    "    clear_output()\n",
    "    Js.append(J)\n",
    "    print(Js)\n",
    "    plt.imshow(eps_r.T)\n",
    "    plt.show()\n",
    "    (_, _, Ez_aj, Hx_aj, Hy_aj, _, _) = solveFDFD(pol, L0, wvlen, xrange, yrange, eps_r, SRC_aj, Npml, timing=timing)\n",
    "    dJde_aj = -k0**2*np.sum((np.real(1j*np.conj(meas)*Ez_og*Ez_aj).T)*delta_device) \n",
    "    dedA = (eps-1.)\n",
    "    neuralNet.back_prop(np.reshape(dJde,(1,Nx*Ny))*dedA*dAdZ)\n",
    "    neuralNet.update_weights(learning_rate=learning_rate)\n",
    "    "
   ]
  },
  {
   "cell_type": "code",
   "execution_count": null,
   "metadata": {
    "collapsed": false
   },
   "outputs": [],
   "source": [
    "plt.imshow(eps_r)\n",
    "plt.colorbar()\n",
    "plt.show()"
   ]
  },
  {
   "cell_type": "code",
   "execution_count": null,
   "metadata": {
    "collapsed": false
   },
   "outputs": [],
   "source": [
    "plt.plot(Js)\n",
    "plt.show()"
   ]
  },
  {
   "cell_type": "code",
   "execution_count": 14,
   "metadata": {
    "collapsed": false
   },
   "outputs": [
    {
     "name": "stdout",
     "output_type": "stream",
     "text": [
      "54.8951045131\n",
      "56.8952893889\n",
      "59.2817249936\n",
      "62.4916041981\n",
      "67.1263782068\n",
      "73.8120570586\n",
      "82.6811135228\n",
      "92.334800455\n",
      "99.2989234606\n",
      "100.162773454\n",
      "94.8588962984\n",
      "86.1613339439\n",
      "76.8363782373\n",
      "68.4375544656\n",
      "61.5520039912\n",
      "56.2055957296\n",
      "52.1341990794\n",
      "48.9946143456\n",
      "46.4980433384\n",
      "44.4479979584\n"
     ]
    }
   ],
   "source": [
    "Js = []\n",
    "adjoints = []\n",
    "numericals = []\n",
    "N_wvl = 20\n",
    "epsilon = 1e-5\n",
    "wvlens = np.linspace(1.5,1.6,N_wvl)\n",
    "for i in range(N_wvl):\n",
    "    wvlen = wvlens[i]\n",
    "    k0 = 2*np.pi/wvlen\n",
    "    eps_r = (eps-1)*delta_device + 1\n",
    "    (_, _, Ez_og, Hx_og, Hy_og, _, _) = solveFDFD(pol, L0, wvlen, xrange, yrange, eps_r, SRC_og, Npml, timing=timing)\n",
    "    meas = np.sum(Ez_og.T*SRC_aj)\n",
    "    J = abs(meas)**2\n",
    "    Js.append(J)\n",
    "    print(J)\n",
    "    (_, _, Ez_aj, Hx_aj, Hy_aj, _, _) = solveFDFD(pol, L0, wvlen, xrange, yrange, eps_r, SRC_aj, Npml, timing=timing)\n",
    "    dJde_aj = -k0**2*np.sum((np.real(1j*np.conj(meas)*Ez_og*Ez_aj).T)*delta_device)\n",
    "    adjoints.append(dJde_aj)\n",
    "    eps_plus = (eps+epsilon-1.)*delta_device + 1.\n",
    "    eps_minus = (eps-epsilon-1.)*delta_device + 1.\n",
    "    (_, _, Ez_plus,  Hx_og, Hy_og, _, _) = solveFDFD(pol, L0, wvlen, xrange, yrange, eps_plus,  SRC_og, Npml, timing=timing)\n",
    "    (_, _, Ez_minus, Hx_og, Hy_og, _, _) = solveFDFD(pol, L0, wvlen, xrange, yrange, eps_minus, SRC_og, Npml, timing=timing)\n",
    "    J_plus  = abs(np.sum(Ez_plus.T*SRC_aj))**2\n",
    "    J_minus = abs(np.sum(Ez_minus.T*SRC_aj))**2    \n",
    "    numericals.append((J_plus-J_minus)/(2*epsilon))"
   ]
  },
  {
   "cell_type": "code",
   "execution_count": 24,
   "metadata": {
    "collapsed": false
   },
   "outputs": [
    {
     "data": {
      "image/png": "[encoded data removed]",
      "text/plain": [
       "<matplotlib.figure.Figure at 0x111aa5ad0>"
      ]
     },
     "metadata": {},
     "output_type": "display_data"
    }
   ],
   "source": [
    "plt.plot(adjoints)\n",
    "plt.plot([-750*i for i in numericals])\n",
    "plt.show()"
   ]
  },
  {
   "cell_type": "code",
   "execution_count": 10,
   "metadata": {
    "collapsed": false
   },
   "outputs": [
    {
     "data": {
      "image/png": "[encoded data removed]",
      "text/plain": [
       "<matplotlib.figure.Figure at 0x111a9b610>"
      ]
     },
     "metadata": {},
     "output_type": "display_data"
    }
   ],
   "source": [
    "plt.imshow(np.real(eps_r))\n",
    "plt.show()"
   ]
  },
  {
   "cell_type": "code",
   "execution_count": null,
   "metadata": {
    "collapsed": true
   },
   "outputs": [],
   "source": []
  }
 ],
 "metadata": {
  "kernelspec": {
   "display_name": "Python 2",
   "language": "python",
   "name": "python2"
  },
  "language_info": {
   "codemirror_mode": {
    "name": "ipython",
    "version": 2
   },
   "file_extension": ".py",
   "mimetype": "text/x-python",
   "name": "python",
   "nbconvert_exporter": "python",
   "pygments_lexer": "ipython2",
   "version": "2.7.10"
  }
 },
 "nbformat": 4,
 "nbformat_minor": 0
}
